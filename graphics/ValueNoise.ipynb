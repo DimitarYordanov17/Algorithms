{
 "cells": [
  {
   "cell_type": "markdown",
   "metadata": {},
   "source": [
    "<h1><center>Noise algorithms"
   ]
  },
  {
   "cell_type": "markdown",
   "metadata": {},
   "source": [
    "## Value Noise, algorithm, implemented in python, tested in 2d\n",
    "\n",
    "### 1. Value Noise\n",
    "\n",
    "Value noise is an algorithm, used in graphics and many different fields(which use randomness as a tool), similar to Perlin Noise. The main concept of the function is to generate a random number based on some factors. It is, used because of it's smoothness, mainly in second dimension. The algorithm, in 2d, works this way:\n",
    "\n",
    "1. The main grid (drawing plane, square, quadrant e.t.c) is divided on several more little grids, at the corner of every little grid, there is a point, assigned with a random value. Based on the input coordinates, you will get a Value Noise random number, using billinear interpolation (Something like average, but also the distance is in mind).\n",
    "\n",
    "If used in 2d, function accepts 2 parameters, x and y coordinates, and returns a value, which can be used as many things (for example, in graphics, it is used most commonly as pixel lightness value). In mine implementation, we are rendering it as RGB, using matplotlib and numpy.\n",
    "\n",
    "_Picture generated through the Value Noise algorithm, notice how everything looks so smooth:_\n",
    "\n",
    "![Value Noise](https://external-content.duckduckgo.com/iu/?u=https%3A%2F%2Fupload.wikimedia.org%2Fwikipedia%2Fcommons%2Fb%2Fbc%2FValue_noise_2D.png&f=1&nofb=1)\n",
    "\n",
    "**Python implementation below:**"
   ]
  },
  {
   "cell_type": "code",
   "execution_count": 2,
   "metadata": {},
   "outputs": [],
   "source": [
    "import random\n",
    "import matplotlib.pyplot as plt\n",
    "import matplotlib.image as mpimg\n",
    "import numpy as np\n",
    "\n",
    "# Matplotlib and numpy are used just for the rendering, if you just want to see the value matrix itself, do the following:\n",
    "# 1.Remove the last line of the fancy_visualise function 2.Call fancy_visualise() 3.Call the normal visualisation function\n",
    "\n",
    "class ValueNoise:\n",
    "    \"\"\"Main class to work with\"\"\"\n",
    "    def __init__(self, grid_width, grid_length):\n",
    "        self.grid_width = grid_width\n",
    "        self.grid_length = grid_length\n",
    "        \n",
    "        self.grid = np.array([[0 for i in range(grid_length + 1)] for j in range(grid_width + 1)]) # Main grid, numpy array\n",
    "        self.max_points = ((self.grid_length + 10) / 10) * ((self.grid_width + 10) / 10) # Calculating the smaller grid's corners\n",
    "        \n",
    "        for y in range(0, grid_width + 1, 10): # Fill the smaller grid's corner points, step is 10\n",
    "            for x in range(0, grid_length + 1, 10):\n",
    "                self.grid[y][x] = random.randint(0, 256)\n",
    "               \n",
    "    def generate_value(self, y, x):\n",
    "        if y % 10 == 0 and x % 10 == 0: # Trying to get interpolation of main points\n",
    "            print(\"Already ocupied\")\n",
    "            return\n",
    "            \n",
    "        if (y < 0 or y > self.grid_width) or (x < 0 or x > self.grid_length): # Out of boundaries\n",
    "            print(\"Out of boundaries\") \n",
    "            return\n",
    "        \n",
    "        \n",
    "        if y % 10 == 0 and y != 0: # Corner elements\n",
    "            y -= 1\n",
    "        if x % 10 == 0 and x != 0:\n",
    "            x -= 1\n",
    "        \n",
    "        \n",
    "        # Some sick math below\n",
    "        \n",
    "        y_decimal = (y // 10) * 10\n",
    "        x_decimal = (x // 10) * 10\n",
    "        \n",
    "        upper_left_coordinates, upper_right_coordinates = (y_decimal, x_decimal), (y_decimal, x_decimal + 10)\n",
    "        lower_left_coordinates, lower_right_coordinates = (y_decimal + 10, x_decimal), (y_decimal + 10, x_decimal + 10)\n",
    "        \n",
    "        upper_left_value = self.grid[upper_left_coordinates[0]][upper_left_coordinates[1]]\n",
    "        upper_right_value = self.grid[upper_right_coordinates[0]][upper_right_coordinates[1]]\n",
    "        \n",
    "        lower_left_value = self.grid[lower_left_coordinates[0]][lower_left_coordinates[1]]\n",
    "        lower_right_value = self.grid[lower_right_coordinates[0]][lower_right_coordinates[1]]\n",
    "        \n",
    "        x1, x2 = upper_left_coordinates[1], upper_right_coordinates[1]\n",
    "        y1, y2 = upper_left_coordinates[0], lower_right_coordinates[0]\n",
    "        \n",
    "        divisor = (x2 - x1) * (y2 - y1)\n",
    "        \n",
    "        part1 = (((x2 - x) * (y2 - y)) / divisor) * upper_left_value\n",
    "        part2 = (((x - x1) * (y2 - y)) / divisor) * upper_right_value\n",
    "        part3 = (((x2 - x) * (y - y1)) / divisor) * lower_left_value\n",
    "        part4 = (((x - x1) * (y - y1)) / divisor) * lower_right_value\n",
    "        \n",
    "        result = part1 + part2 + part3 + part4\n",
    "        \n",
    "        return round(result)\n",
    "        \n",
    "    def visualise(self): # Visualise the grid normally\n",
    "        for y in self.grid:\n",
    "            for x in y:\n",
    "                if x == 0:\n",
    "                    print(\" 0 \", end=\"\")\n",
    "                else:\n",
    "                    print(x, end=\" \")\n",
    "            print()\n",
    "            \n",
    "    def fancy_visualise(self): # Fancy visualese, a.k.a render\n",
    "        for y in range(0, self.grid_width + 1):\n",
    "            for x in range(0, self.grid_length + 1):\n",
    "                if y % 10 == 0 and x % 10 == 0:\n",
    "                    continue\n",
    "                self.grid[y][x] = self.generate_value(y, x)\n",
    "        \n",
    "        imgplot = plt.imshow(value_noise.grid)"
   ]
  },
  {
   "cell_type": "markdown",
   "metadata": {},
   "source": [
    "**Driver Code**:"
   ]
  },
  {
   "cell_type": "code",
   "execution_count": null,
   "metadata": {},
   "outputs": [],
   "source": [
    "# Use only x % 10 == 0 numbers for initializing arguments.\n",
    "value_noise = ValueNoise(150, 159)\n",
    "\n",
    "value_noise.fancy_visualise()\n",
    "\n",
    "# value_noise.visualise()"
   ]
  }
 ],
 "metadata": {
  "kernelspec": {
   "display_name": "Python 3",
   "language": "python",
   "name": "python3"
  },
  "language_info": {
   "codemirror_mode": {
    "name": "ipython",
    "version": 3
   },
   "file_extension": ".py",
   "mimetype": "text/x-python",
   "name": "python",
   "nbconvert_exporter": "python",
   "pygments_lexer": "ipython3",
   "version": "3.8.3"
  }
 },
 "nbformat": 4,
 "nbformat_minor": 4
}
